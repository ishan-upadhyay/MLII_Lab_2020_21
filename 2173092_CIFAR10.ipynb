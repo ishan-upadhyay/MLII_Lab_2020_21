{
  "nbformat": 4,
  "nbformat_minor": 0,
  "metadata": {
    "colab": {
      "name": "CIFAR10.ipynb",
      "provenance": [],
      "collapsed_sections": []
    },
    "kernelspec": {
      "name": "python3",
      "display_name": "Python 3"
    },
    "accelerator": "GPU"
  },
  "cells": [
    {
      "cell_type": "markdown",
      "metadata": {
        "id": "S0TwmJhSSNip",
        "colab_type": "text"
      },
      "source": [
        "# **CIFAR10**"
      ]
    },
    {
      "cell_type": "code",
      "metadata": {
        "id": "4EHvKLbawPfx",
        "colab_type": "code",
        "colab": {}
      },
      "source": [
        "from tensorflow.keras.datasets import cifar10\n",
        "from matplotlib import pyplot as plt\n",
        "from tensorflow import keras\n",
        "import tensorflow.compat.v2 as tf\n",
        "from sklearn.model_selection import train_test_split\n",
        "from tensorflow.keras.utils import to_categorical as tcg\n",
        "from tensorflow.keras.models import Sequential\n",
        "from tensorflow.keras.layers import Dense, Flatten"
      ],
      "execution_count": 52,
      "outputs": []
    },
    {
      "cell_type": "code",
      "metadata": {
        "id": "SMrjszw7xZFw",
        "colab_type": "code",
        "colab": {}
      },
      "source": [
        "(xtr,ytr),(xte,yte)=cifar10.load_data()"
      ],
      "execution_count": 53,
      "outputs": []
    },
    {
      "cell_type": "code",
      "metadata": {
        "id": "hjZkN-tH0rxh",
        "colab_type": "code",
        "colab": {
          "base_uri": "https://localhost:8080/",
          "height": 34
        },
        "outputId": "ca6e8187-c17f-4e6f-9466-9479a02b8d4e"
      },
      "source": [
        "xtr.shape"
      ],
      "execution_count": 54,
      "outputs": [
        {
          "output_type": "execute_result",
          "data": {
            "text/plain": [
              "(50000, 32, 32, 3)"
            ]
          },
          "metadata": {
            "tags": []
          },
          "execution_count": 54
        }
      ]
    },
    {
      "cell_type": "code",
      "metadata": {
        "id": "4K1G54bHBx66",
        "colab_type": "code",
        "colab": {
          "base_uri": "https://localhost:8080/",
          "height": 283
        },
        "outputId": "6de1368f-a415-4731-f26e-f8f692f6b9aa"
      },
      "source": [
        "plt.imshow(xtr[99], cmap='gray')"
      ],
      "execution_count": 55,
      "outputs": [
        {
          "output_type": "execute_result",
          "data": {
            "text/plain": [
              "<matplotlib.image.AxesImage at 0x7f8ad04c56a0>"
            ]
          },
          "metadata": {
            "tags": []
          },
          "execution_count": 55
        },
        {
          "output_type": "display_data",
          "data": {
            "image/png": "[encoded data removed]",
            "text/plain": [
              "<Figure size 432x288 with 1 Axes>"
            ]
          },
          "metadata": {
            "tags": [],
            "needs_background": "light"
          }
        }
      ]
    },
    {
      "cell_type": "code",
      "metadata": {
        "id": "P4NfYkwQDNA-",
        "colab_type": "code",
        "colab": {
          "base_uri": "https://localhost:8080/",
          "height": 34
        },
        "outputId": "4857bd46-3d23-4337-b54b-4150980ff643"
      },
      "source": [
        "ytr[99]"
      ],
      "execution_count": 56,
      "outputs": [
        {
          "output_type": "execute_result",
          "data": {
            "text/plain": [
              "array([1], dtype=uint8)"
            ]
          },
          "metadata": {
            "tags": []
          },
          "execution_count": 56
        }
      ]
    },
    {
      "cell_type": "code",
      "metadata": {
        "id": "O3HFAc1UqETZ",
        "colab_type": "code",
        "colab": {
          "base_uri": "https://localhost:8080/",
          "height": 283
        },
        "outputId": "43938367-afba-456f-ff46-c17c1ba12a5f"
      },
      "source": [
        "plt.imshow(xte[99], cmap='gray')"
      ],
      "execution_count": 57,
      "outputs": [
        {
          "output_type": "execute_result",
          "data": {
            "text/plain": [
              "<matplotlib.image.AxesImage at 0x7f8ad037ee10>"
            ]
          },
          "metadata": {
            "tags": []
          },
          "execution_count": 57
        },
        {
          "output_type": "display_data",
          "data": {
            "image/png": "[encoded data removed]",
            "text/plain": [
              "<Figure size 432x288 with 1 Axes>"
            ]
          },
          "metadata": {
            "tags": [],
            "needs_background": "light"
          }
        }
      ]
    },
    {
      "cell_type": "code",
      "metadata": {
        "id": "j6jzqki2qLmb",
        "colab_type": "code",
        "colab": {
          "base_uri": "https://localhost:8080/",
          "height": 34
        },
        "outputId": "9dac43bc-f7eb-4619-a89f-15ca2db27227"
      },
      "source": [
        "yte[99]"
      ],
      "execution_count": 58,
      "outputs": [
        {
          "output_type": "execute_result",
          "data": {
            "text/plain": [
              "array([7], dtype=uint8)"
            ]
          },
          "metadata": {
            "tags": []
          },
          "execution_count": 58
        }
      ]
    },
    {
      "cell_type": "code",
      "metadata": {
        "id": "ZKJ7-AwK0q2w",
        "colab_type": "code",
        "colab": {}
      },
      "source": [
        "ytr=tcg(ytr)\n",
        "yte=tcg(yte)"
      ],
      "execution_count": 59,
      "outputs": []
    },
    {
      "cell_type": "code",
      "metadata": {
        "id": "-TRlMrFhxaHS",
        "colab_type": "code",
        "colab": {}
      },
      "source": [
        "xte=xte.reshape(xte.shape[0],xte.shape[1],xte.shape[2],3).astype('float32')/255\n",
        "xtr=xtr.reshape(xtr.shape[0],xtr.shape[1],xtr.shape[2],3).astype('float32')/255"
      ],
      "execution_count": 60,
      "outputs": []
    },
    {
      "cell_type": "code",
      "metadata": {
        "id": "488ekMPttqQP",
        "colab_type": "code",
        "colab": {}
      },
      "source": [
        "model = Sequential([\n",
        "  Flatten(input_shape=(32, 32, 3)),\n",
        "  Dense(256, activation='relu'),\n",
        "  Dense(128, activation='relu'),\n",
        "  Dense(64, activation='relu'),\n",
        "  Dense(10, activation='softmax'),\n",
        "])"
      ],
      "execution_count": 61,
      "outputs": []
    },
    {
      "cell_type": "code",
      "metadata": {
        "id": "Cwvo7vHlYfxh",
        "colab_type": "code",
        "colab": {}
      },
      "source": [
        "model.compile(loss='categorical_crossentropy',optimizer='adam', metrics=['accuracy'])"
      ],
      "execution_count": 62,
      "outputs": []
    },
    {
      "cell_type": "code",
      "metadata": {
        "id": "xufOKyQkYvTe",
        "colab_type": "code",
        "colab": {
          "base_uri": "https://localhost:8080/",
          "height": 454
        },
        "outputId": "b3d8a672-7af2-462b-bc66-f5a64d573a87"
      },
      "source": [
        "history = model.fit(xtr,ytr, validation_data=(xte,yte),epochs=13, batch_size=64)"
      ],
      "execution_count": 63,
      "outputs": [
        {
          "output_type": "stream",
          "text": [
            "Epoch 1/13\n",
            "782/782 [==============================] - 4s 5ms/step - loss: 1.8678 - accuracy: 0.3227 - val_loss: 1.7552 - val_accuracy: 0.3585\n",
            "Epoch 2/13\n",
            "782/782 [==============================] - 4s 5ms/step - loss: 1.6903 - accuracy: 0.3928 - val_loss: 1.7458 - val_accuracy: 0.3701\n",
            "Epoch 3/13\n",
            "782/782 [==============================] - 4s 5ms/step - loss: 1.6164 - accuracy: 0.4219 - val_loss: 1.5798 - val_accuracy: 0.4356\n",
            "Epoch 4/13\n",
            "782/782 [==============================] - 4s 5ms/step - loss: 1.5526 - accuracy: 0.4448 - val_loss: 1.5403 - val_accuracy: 0.4479\n",
            "Epoch 5/13\n",
            "782/782 [==============================] - 4s 5ms/step - loss: 1.5155 - accuracy: 0.4580 - val_loss: 1.5063 - val_accuracy: 0.4650\n",
            "Epoch 6/13\n",
            "782/782 [==============================] - 4s 5ms/step - loss: 1.4697 - accuracy: 0.4745 - val_loss: 1.4876 - val_accuracy: 0.4732\n",
            "Epoch 7/13\n",
            "782/782 [==============================] - 4s 5ms/step - loss: 1.4481 - accuracy: 0.4844 - val_loss: 1.4468 - val_accuracy: 0.4884\n",
            "Epoch 8/13\n",
            "782/782 [==============================] - 4s 5ms/step - loss: 1.4220 - accuracy: 0.4926 - val_loss: 1.4710 - val_accuracy: 0.4778\n",
            "Epoch 9/13\n",
            "782/782 [==============================] - 4s 5ms/step - loss: 1.3958 - accuracy: 0.5024 - val_loss: 1.4195 - val_accuracy: 0.4949\n",
            "Epoch 10/13\n",
            "782/782 [==============================] - 4s 5ms/step - loss: 1.3698 - accuracy: 0.5115 - val_loss: 1.4511 - val_accuracy: 0.4820\n",
            "Epoch 11/13\n",
            "782/782 [==============================] - 4s 5ms/step - loss: 1.3530 - accuracy: 0.5167 - val_loss: 1.4663 - val_accuracy: 0.4801\n",
            "Epoch 12/13\n",
            "782/782 [==============================] - 4s 5ms/step - loss: 1.3392 - accuracy: 0.5207 - val_loss: 1.4097 - val_accuracy: 0.4989\n",
            "Epoch 13/13\n",
            "782/782 [==============================] - 4s 5ms/step - loss: 1.3187 - accuracy: 0.5257 - val_loss: 1.4161 - val_accuracy: 0.4977\n"
          ],
          "name": "stdout"
        }
      ]
    },
    {
      "cell_type": "code",
      "metadata": {
        "id": "EInMzdXLd5o8",
        "colab_type": "code",
        "colab": {
          "base_uri": "https://localhost:8080/",
          "height": 50
        },
        "outputId": "f5e92b95-d65a-48d2-c27c-694c551b0dea"
      },
      "source": [
        "model.evaluate(xtr,ytr)"
      ],
      "execution_count": 64,
      "outputs": [
        {
          "output_type": "stream",
          "text": [
            "1563/1563 [==============================] - 5s 3ms/step - loss: 1.2772 - accuracy: 0.5397\n"
          ],
          "name": "stdout"
        },
        {
          "output_type": "execute_result",
          "data": {
            "text/plain": [
              "[1.2771670818328857, 0.5397199988365173]"
            ]
          },
          "metadata": {
            "tags": []
          },
          "execution_count": 64
        }
      ]
    },
    {
      "cell_type": "code",
      "metadata": {
        "id": "NX3dcCLwOTP4",
        "colab_type": "code",
        "colab": {
          "base_uri": "https://localhost:8080/",
          "height": 34
        },
        "outputId": "07c54a74-2220-4ae7-8601-3026150174de"
      },
      "source": [
        "score = model.evaluate(xte,yte)"
      ],
      "execution_count": 65,
      "outputs": [
        {
          "output_type": "stream",
          "text": [
            "313/313 [==============================] - 1s 3ms/step - loss: 1.4161 - accuracy: 0.4977\n"
          ],
          "name": "stdout"
        }
      ]
    },
    {
      "cell_type": "code",
      "metadata": {
        "id": "SHmlsgxbA_Bk",
        "colab_type": "code",
        "colab": {
          "base_uri": "https://localhost:8080/",
          "height": 50
        },
        "outputId": "4cc941b2-f582-472d-85fe-bcb58c0b0989"
      },
      "source": [
        "print('Test loss:', score[0])\n",
        "print('Test accuracy:', score[1])"
      ],
      "execution_count": 66,
      "outputs": [
        {
          "output_type": "stream",
          "text": [
            "Test loss: 1.4161287546157837\n",
            "Test accuracy: 0.4977000057697296\n"
          ],
          "name": "stdout"
        }
      ]
    },
    {
      "cell_type": "code",
      "metadata": {
        "id": "EGHODHTGBUyv",
        "colab_type": "code",
        "colab": {
          "base_uri": "https://localhost:8080/",
          "height": 295
        },
        "outputId": "b75e7ead-4a0a-4423-8b73-80f44081d46f"
      },
      "source": [
        "plt.plot(history.history['accuracy'])\n",
        "plt.plot(history.history['val_accuracy'])\n",
        "plt.title('model accuracy')\n",
        "plt.ylabel('accuracy')\n",
        "plt.xlabel('epoch')\n",
        "plt.legend(['train', 'test'], loc='upper left')\n",
        "plt.show()"
      ],
      "execution_count": 67,
      "outputs": [
        {
          "output_type": "display_data",
          "data": {
            "image/png": "[encoded data removed]",
            "text/plain": [
              "<Figure size 432x288 with 1 Axes>"
            ]
          },
          "metadata": {
            "tags": [],
            "needs_background": "light"
          }
        }
      ]
    },
    {
      "cell_type": "code",
      "metadata": {
        "id": "WyN_Wd31kLKS",
        "colab_type": "code",
        "colab": {
          "base_uri": "https://localhost:8080/",
          "height": 295
        },
        "outputId": "ddee1bce-44fe-4ff9-98e7-e3c74e2c3c95"
      },
      "source": [
        "plt.plot(history.history['loss'])\n",
        "plt.plot(history.history['val_loss'])\n",
        "plt.title('model loss')\n",
        "plt.ylabel('loss')\n",
        "plt.xlabel('epoch')\n",
        "plt.legend(['train', 'test'], loc='upper left')\n",
        "plt.show()"
      ],
      "execution_count": 68,
      "outputs": [
        {
          "output_type": "display_data",
          "data": {
            "image/png": "[encoded data removed]",
            "text/plain": [
              "<Figure size 432x288 with 1 Axes>"
            ]
          },
          "metadata": {
            "tags": [],
            "needs_background": "light"
          }
        }
      ]
    }
  ]
}
